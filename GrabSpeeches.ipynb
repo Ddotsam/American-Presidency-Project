{
 "cells": [
  {
   "cell_type": "code",
   "execution_count": null,
   "id": "8510a61d",
   "metadata": {},
   "outputs": [],
   "source": [
    "import time\n",
    "import re\n",
    "import sys\n",
    "import nltk\n",
    "import unicodedata\n",
    "import json\n",
    "import os"
   ]
  },
  {
   "cell_type": "code",
   "execution_count": null,
   "id": "f20cebef",
   "metadata": {},
   "outputs": [],
   "source": [
    "# Initialize the presidents so that we can make sure we are only grabbing\n",
    "# The speaches that were given during thier presidency\n",
    "presidents = {'Calvin Coolidge':{num for num in range(1923, 1929 + 1)}, 'Ronald Reagan':{num for num in range(1981, 1989 + 1)}, \n",
    "              'Woodrow Wilson':{num for num in range(1913, 1921 + 1)}, 'Franklin D. Roosevelt':{num for num in range(1933, 1945 + 1)},\n",
    "              'Herbert Hoover':{num for num in range(1929, 1933 + 1)}, 'Zachary Taylor':{num for num in range(1849, 1850 + 1)}, \n",
    "              'William McKinley':{num for num in range(1897, 1901 + 1)}, 'William J. Clinton':{num for num in range(1993, 2001 + 1)},\n",
    "              'William Howard Taft':{num for num in range(1909, 1913 + 1)}, 'William Henry Harrison':{1841}, \n",
    "              'Warren G. Harding':{num for num in range(1921, 1923 + 1)}, 'Ulysses S. Grant':{num for num in range(1869, 1877 + 1)},\n",
    "              'Thomas Jefferson':{num for num in range(1801, 1809 + 1)}, 'Theodore Roosevelt':{num for num in range(1901, 1909 + 1)}, \n",
    "              'Rutherford B. Hayes':{num for num in range(1877, 1881 + 1)}, 'Richard Nixon':{num for num in range(1969, 1974 + 1)},\n",
    "              'Millard Fillmore':{num for num in range(1850, 1853 + 1)}, 'Martin van Buren':{num for num in range(1837, 1841 + 1)},\n",
    "              'Lyndon B. Johnson':{num for num in range(1963, 1969 + 1)}, 'Joseph R. Biden':{num for num in range(2021, 2023 + 1)}, \n",
    "              'John Tyler':{num for num in range(1841, 1845 + 1)}, 'John Quincy Adams':{num for num in range(1825, 1829 + 1)}, \n",
    "              'George Washington':{num for num in range(1789, 1797 + 1)}, 'James Madison':{num for num in range(1809, 1817 + 1)}, \n",
    "              'James Monroe':{num for num in range(1817, 1825 + 1)}, 'Andrew Jackson':{num for num in range(1829, 1837 + 1)}, \n",
    "              'James K. Polk':{num for num in range(1845, 1849 + 1)}, 'Franklin Pierce':{num for num in range(1853, 1857 + 1)}, \n",
    "              'Abraham Lincoln':{num for num in range(1861, 1865 + 1)}, 'Andrew Johnson':{num for num in range(1865, 1869 + 1)}, \n",
    "              'James A. Garfield':{1881}, 'Chester A. Arthur':{num for num in range(1881, 1885 + 1)}, \n",
    "              'Grover Cleveland':{1885, 1886, 1887, 1888, 1889, 1893, 1894, 1895, 1896, 1897}, 'Benjamin Harrison':{num for num in range(1889, 1893 + 1)}, \n",
    "              'Dwight D. Eisenhower':{num for num in range(1953, 1961 + 1)}, 'John F. Kennedy':{num for num in range(1961, 1963 + 1)},\n",
    "              'Gerald R. Ford':{num for num in range(1974, 1977 + 1)}, 'Jimmy Carter':{num for num in range(1977, 1981 + 1)}, \n",
    "              'George Bush':{num for num in range(1989, 1993 + 1)}, 'George W. Bush':{num for num in range(2001, 2009 + 1)}, \n",
    "              'Barack Obama':{num for num in range(2009, 2017 + 1)}, 'Donald J. Trump':{num for num in range(2017, 2021 + 1)},\n",
    "              'John Adams':{num for num in range(1797, 1801 + 1)}, 'James Buchanan':{num for num in range(1857, 1861 + 1)}, \n",
    "              'Harry S. Truman':{num for num in range(1945, 1953 + 1)}} #List of all the presidents and their years in office\n",
    "presidents = {name.replace(\" \", \"\"):presidents[name] for name in presidents}"
   ]
  },
  {
   "cell_type": "code",
   "execution_count": null,
   "id": "7d3b5109",
   "metadata": {},
   "outputs": [],
   "source": [
    "## Takes about 30 seconds!!\n",
    "# It filters for first the presidential category, then the speaker (only presidents), \n",
    "# then it filters for the year given to be at least 1901 and for the year to be in the president's presidency period.\n",
    "\n",
    "directory = 'parsed_documents'\n",
    "for filename in os.listdir(directory):\n",
    "    f = os.path.join(directory, filename)\n",
    "    if os.path.isfile(f):\n",
    "        try: # One or two of the documents return errors\n",
    "            J = open(directory+'/'+filename)\n",
    "            data = json.loads(J.read())\n",
    "            J.close()\n",
    "        except:\n",
    "            continue\n",
    "        speaker = data['speaker'].replace(' ', '')\n",
    "        if 'Presidential' in data['categories']['primary']:\n",
    "            if speaker in presidents:\n",
    "                year_given = int(data['date'][-4:])\n",
    "                if year_given in presidents[speaker]: # Check if given during presidency\n",
    "                    body = data['body'].translate(str.maketrans({u'\\u2014': ' ', u'\\u2013': ' '}))\n",
    "                    speak_bod_year = {'speaker': data['speaker'], 'body': body, 'year': year_given}\n",
    "                    if not os.path.exists(\"parsedDocumentsPresidencyOnly\"):\n",
    "                        os.mkdir(\"parsedDocumentsPresidencyOnly\")\n",
    "                    with open(f\"parsedDocumentsPresidencyOnly/{filename}\", \"w\") as json_file:\n",
    "                        json.dump(speak_bod_year, json_file)"
   ]
  }
 ],
 "metadata": {
  "kernelspec": {
   "display_name": "Python 3 (ipykernel)",
   "language": "python",
   "name": "python3"
  },
  "language_info": {
   "codemirror_mode": {
    "name": "ipython",
    "version": 3
   },
   "file_extension": ".py",
   "mimetype": "text/x-python",
   "name": "python",
   "nbconvert_exporter": "python",
   "pygments_lexer": "ipython3",
   "version": "3.8.10"
  }
 },
 "nbformat": 4,
 "nbformat_minor": 5
}
